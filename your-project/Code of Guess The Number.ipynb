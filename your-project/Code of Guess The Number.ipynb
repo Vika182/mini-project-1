{
 "cells": [
  {
   "cell_type": "code",
   "execution_count": 1,
   "metadata": {},
   "outputs": [],
   "source": [
    "import random\n",
    "from random import randint\n",
    "\n",
    "\n",
    "def computer_number():\n",
    "    num = randint(1,100)\n",
    "    return num\n",
    "\n",
    "computer = computer_number()\n"
   ]
  },
  {
   "cell_type": "code",
   "execution_count": 2,
   "metadata": {},
   "outputs": [
    {
     "name": "stdout",
     "output_type": "stream",
     "text": [
      "Pick a number between 1 and 100. You have 8 tries to guess the number.96\n",
      "\n",
      "Tries left: 7\n",
      "\n",
      "Lower\n",
      "\n",
      "Pick again.45\n",
      "\n",
      "Tries left: 6\n",
      "\n",
      "Lower\n",
      "\n",
      "Pick again.34\n",
      "\n",
      "Tries left: 5\n",
      "\n",
      "Lower\n",
      "\n",
      "Pick again.20\n",
      "\n",
      "Tries left: 4\n",
      "\n",
      "Lower\n",
      "\n",
      "Pick again.12\n",
      "\n",
      "Tries left: 3\n",
      "\n",
      "Lower\n",
      "\n",
      "Pick again.9\n",
      "\n",
      "Tries left: 2\n",
      "\n",
      "Lower\n",
      "\n",
      "Pick again.6\n",
      "\n",
      "Tries left: 1\n",
      "\n",
      "You won in 7 tries!\n"
     ]
    }
   ],
   "source": [
    "player_number = int(input(\"Pick a number between 1 and 100. You have 8 tries to guess the number.\")) \n",
    "rounds = 7 \n",
    "print(\"\\nTries left:\", rounds)\n",
    "\n",
    "while player_number != computer: \n",
    "    if player_number > 100 or player_number < 1:\n",
    "        print(\"\\nError! The number should be between 1 and 100.\")\n",
    "        break\n",
    "    if player_number > computer:\n",
    "        print(\"\\nLower\")\n",
    "        player_number = int(input(\"\\nPick again.\"))\n",
    "        rounds -= 1\n",
    "    elif player_number < computer:\n",
    "        print(\"\\nHigher\")\n",
    "        player_number = int(input(\"\\nPick again.\"))\n",
    "        rounds -= 1\n",
    "    print(\"\\nTries left:\", rounds)\n",
    "    if rounds == 0:\n",
    "        print(\"\\nYou lost!\")\n",
    "        break\n",
    "else: \n",
    "    print(\"\\nYou won in\", 8-rounds, \"tries!\")"
   ]
  },
  {
   "cell_type": "code",
   "execution_count": null,
   "metadata": {},
   "outputs": [],
   "source": []
  }
 ],
 "metadata": {
  "kernelspec": {
   "display_name": "Python 3",
   "language": "python",
   "name": "python3"
  },
  "language_info": {
   "codemirror_mode": {
    "name": "ipython",
    "version": 3
   },
   "file_extension": ".py",
   "mimetype": "text/x-python",
   "name": "python",
   "nbconvert_exporter": "python",
   "pygments_lexer": "ipython3",
   "version": "3.7.6"
  }
 },
 "nbformat": 4,
 "nbformat_minor": 2
}
