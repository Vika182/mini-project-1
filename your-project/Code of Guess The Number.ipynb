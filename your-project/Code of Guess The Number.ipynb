{
 "cells": [
  {
   "cell_type": "code",
   "execution_count": null,
   "metadata": {},
   "outputs": [],
   "source": [
    "#computer chooses a random number up to 100\n",
    "#human gets 8 tries to guess the number\n",
    "#if number is wrong, computer says 'higher' or 'lower'\n",
    "\n",
    "#if number is right, computer says \"you win\"\n",
    "\n",
    "\"Pick a number between 1 and 100\"\n",
    "\"You have 8 chances\"\n",
    "\"Enter your guess:\"\n",
    "#if input < number:\n",
    "#print \"Less than that\"\n",
    "#elif input > number:\n",
    "#print \"More than that\"\n",
    "#elif input = number:\n",
    "#print \"You won!\""
   ]
  }
 ],
 "metadata": {
  "kernelspec": {
   "display_name": "Python 3",
   "language": "python",
   "name": "python3"
  },
  "language_info": {
   "codemirror_mode": {
    "name": "ipython",
    "version": 3
   },
   "file_extension": ".py",
   "mimetype": "text/x-python",
   "name": "python",
   "nbconvert_exporter": "python",
   "pygments_lexer": "ipython3",
   "version": "3.7.6"
  }
 },
 "nbformat": 4,
 "nbformat_minor": 2
}
